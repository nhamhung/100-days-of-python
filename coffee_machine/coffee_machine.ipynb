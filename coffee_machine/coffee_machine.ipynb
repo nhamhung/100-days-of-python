{
 "cells": [
  {
   "cell_type": "code",
   "execution_count": 2,
   "metadata": {
    "collapsed": true
   },
   "outputs": [],
   "source": [
    "import coffee_machine"
   ]
  }
 ],
 "metadata": {
  "kernelspec": {
   "name": "pycharm-77ea0f69",
   "language": "python",
   "display_name": "PyCharm (100-days-of-python)"
  },
  "language_info": {
   "codemirror_mode": {
    "name": "ipython",
    "version": 2
   },
   "file_extension": ".py",
   "mimetype": "text/x-python",
   "name": "python",
   "nbconvert_exporter": "python",
   "pygments_lexer": "ipython2",
   "version": "2.7.6"
  }
 },
 "nbformat": 4,
 "nbformat_minor": 0
}