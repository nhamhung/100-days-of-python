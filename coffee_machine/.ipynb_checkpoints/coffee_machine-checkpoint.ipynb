{
 "cells": [
  {
   "cell_type": "code",
   "execution_count": 1,
   "metadata": {},
   "outputs": [
    {
     "name": "stdout",
     "output_type": "stream",
     "text": [
      "  What would you like? (espresso/latte/cappuccino): report\n",
      "Water: 300ml\n",
      "Milk: 200ml\n",
      "Coffee: 100g\n",
      "Money: $0\n",
      "  What would you like? (espresso/latte/cappuccino): espresso\n",
      "Please insert coins.\n",
      "how many quarters?: 10\n",
      "how many dimes?: 10\n",
      "how many nickles?: 10\n",
      "how many pennies?: 10\n",
      "Here is $2.6 in change.\n",
      "Here is your espresso. Enjoy!\n",
      "  What would you like? (espresso/latte/cappuccino): report\n",
      "Water: 250ml\n",
      "Milk: 200ml\n",
      "Coffee: 82g\n",
      "Money: $1.5\n",
      "  What would you like? (espresso/latte/cappuccino): latte\n",
      "Please insert coins.\n",
      "how many quarters?: 20\n",
      "how many dimes?: 10\n",
      "how many nickles?: 5\n",
      "how many pennies?: 1\n",
      "Here is $3.76 in change.\n",
      "Here is your latte. Enjoy!\n",
      "  What would you like? (espresso/latte/cappuccino): report\n",
      "Water: 50ml\n",
      "Milk: 50ml\n",
      "Coffee: 58g\n",
      "Money: $4.0\n",
      "  What would you like? (espresso/latte/cappuccino): cappuccino\n",
      "  Sorry there is not enough water\n",
      "  What would you like? (espresso/latte/cappuccino): latte\n",
      "  Sorry there is not enough water\n",
      "  What would you like? (espresso/latte/cappuccino): espresso\n",
      "Please insert coins.\n",
      "how many quarters?: 1\n",
      "how many dimes?: 2\n",
      "how many nickles?: 3\n",
      "how many pennies?: 1\n",
      "Sorry that's not enough money. Money refunded.\n",
      "  What would you like? (espresso/latte/cappuccino): espresso\n",
      "Please insert coins.\n",
      "how many quarters?: 5\n",
      "how many dimes?: 5\n",
      "how many nickles?: 5\n",
      "how many pennies?: 5\n",
      "Here is $0.55 in change.\n",
      "Here is your espresso. Enjoy!\n",
      "  What would you like? (espresso/latte/cappuccino): report\n",
      "Water: 0ml\n",
      "Milk: 50ml\n",
      "Coffee: 40g\n",
      "Money: $5.5\n",
      "  What would you like? (espresso/latte/cappuccino): off\n"
     ]
    }
   ],
   "source": [
    "import coffee_machine"
   ]
  }
 ],
 "metadata": {
  "kernelspec": {
   "display_name": "PyCharm (100-days-of-python)",
   "language": "python",
   "name": "pycharm-77ea0f69"
  },
  "language_info": {
   "codemirror_mode": {
    "name": "ipython",
    "version": 3
   },
   "file_extension": ".py",
   "mimetype": "text/x-python",
   "name": "python",
   "nbconvert_exporter": "python",
   "pygments_lexer": "ipython3",
   "version": "3.8.3"
  }
 },
 "nbformat": 4,
 "nbformat_minor": 1
}
